{
  "nbformat": 4,
  "nbformat_minor": 0,
  "metadata": {
    "colab": {
      "name": "Portfolio Management - Zimei Yang",
      "version": "0.3.2",
      "views": {},
      "default_view": {},
      "provenance": [],
      "collapsed_sections": []
    },
    "kernelspec": {
      "name": "python3",
      "display_name": "Python 3"
    }
  },
  "cells": [
    {
      "metadata": {
        "id": "rZ1K60rjrNhx",
        "colab_type": "text"
      },
      "cell_type": "markdown",
      "source": [
        "# Analytical Decision Making - Portfolio Management\n",
        "##### Zimei Yang | June 2, 2018\n",
        "\n",
        "The objective is to consider different approaches with respect to portfolio optimization. In the data set, we have trading information about 6 stocks. Based on the evolution of these stocks, we'll recommend different portfolio allocations."
      ]
    },
    {
      "metadata": {
        "id": "7rs6AwYNHmay",
        "colab_type": "text"
      },
      "cell_type": "markdown",
      "source": [
        "## Part A: Portfolio Management Based on the Full Dataset\n",
        "\n",
        "### Portfolio:\n",
        "We implement an portfolio optimization problem for tech companies, i.e.,\n",
        "\n",
        "* Amazon\n",
        "\n",
        "* Apple \n",
        "\n",
        "* eBay\n",
        "\n",
        "* Facebook\n",
        "\n",
        "* Google\n",
        "\n",
        "* Twitter\n",
        "\n",
        "Find out what is the optimal\n",
        "allocation 𝑥 = {𝑥1, 𝑥2, 𝑥3, 𝑥4, 𝑥5, 𝑥6}  of these 6 stocks.\n",
        "\n",
        "#### *The goal is to minimize risk and maximize returns.*\n",
        "\n",
        "\n",
        "\n",
        "\n",
        "\n",
        "\n",
        "\n",
        "\n"
      ]
    },
    {
      "metadata": {
        "id": "xD2ChRkIiNTZ",
        "colab_type": "text"
      },
      "cell_type": "markdown",
      "source": [
        "## 1. Preparing the data"
      ]
    },
    {
      "metadata": {
        "id": "9kcaleM1NnPs",
        "colab_type": "code",
        "colab": {
          "autoexec": {
            "startup": false,
            "wait_interval": 0
          },
          "base_uri": "https://localhost:8080/",
          "height": 219
        },
        "outputId": "fc62df05-5e3f-4d1b-c758-af13ece1ce7a",
        "executionInfo": {
          "status": "ok",
          "timestamp": 1528049812260,
          "user_tz": 420,
          "elapsed": 4561,
          "user": {
            "displayName": "Zimei Yang",
            "photoUrl": "https://lh3.googleusercontent.com/a/default-user=s128",
            "userId": "103997432320800495390"
          }
        }
      },
      "cell_type": "code",
      "source": [
        "# install packages\n",
        "!pip install xlrd\n",
        "!pip install cvxpy==0.4.11"
      ],
      "execution_count": 128,
      "outputs": [
        {
          "output_type": "stream",
          "text": [
            "Requirement already satisfied: xlrd in /usr/local/lib/python3.6/dist-packages (1.1.0)\n",
            "Requirement already satisfied: cvxpy==0.4.11 in /usr/local/lib/python3.6/dist-packages (0.4.11)\n",
            "Requirement already satisfied: ecos>=2 in /usr/local/lib/python3.6/dist-packages (from cvxpy==0.4.11) (2.0.5)\n",
            "Requirement already satisfied: fastcache in /usr/local/lib/python3.6/dist-packages (from cvxpy==0.4.11) (1.0.2)\n",
            "Requirement already satisfied: six in /usr/local/lib/python3.6/dist-packages (from cvxpy==0.4.11) (1.11.0)\n",
            "Requirement already satisfied: scipy>=0.15 in /usr/local/lib/python3.6/dist-packages (from cvxpy==0.4.11) (0.19.1)\n",
            "Requirement already satisfied: scs>=1.1.3 in /usr/local/lib/python3.6/dist-packages (from cvxpy==0.4.11) (2.0.2)\n",
            "Requirement already satisfied: multiprocess in /usr/local/lib/python3.6/dist-packages (from cvxpy==0.4.11) (0.70.5)\n",
            "Requirement already satisfied: toolz in /usr/local/lib/python3.6/dist-packages (from cvxpy==0.4.11) (0.9.0)\n",
            "Requirement already satisfied: numpy>=1.9 in /usr/local/lib/python3.6/dist-packages (from cvxpy==0.4.11) (1.14.3)\n",
            "Requirement already satisfied: CVXcanon>=0.0.22 in /usr/local/lib/python3.6/dist-packages (from cvxpy==0.4.11) (0.1.1)\n",
            "Requirement already satisfied: dill>=0.2.6 in /usr/local/lib/python3.6/dist-packages (from multiprocess->cvxpy==0.4.11) (0.2.7.1)\n"
          ],
          "name": "stdout"
        }
      ]
    },
    {
      "metadata": {
        "id": "j2SPljtOreq7",
        "colab_type": "code",
        "colab": {
          "autoexec": {
            "startup": false,
            "wait_interval": 0
          }
        }
      },
      "cell_type": "code",
      "source": [
        "# import packages\n",
        "import numpy as np\n",
        "from numpy import matrix\n",
        "import pandas as pd\n",
        "import math\n",
        "import cvxpy as cvx\n",
        "from cvxpy import *\n",
        "import matplotlib.pyplot as plt\n",
        "from scipy import stats\n",
        "from scipy.optimize import minimize"
      ],
      "execution_count": 0,
      "outputs": []
    },
    {
      "metadata": {
        "id": "ow52TtoONf6f",
        "colab_type": "code",
        "colab": {
          "autoexec": {
            "startup": false,
            "wait_interval": 0
          },
          "resources": {
            "http://localhost:8080/nbextensions/google.colab/files.js": {
              "data": "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",
              "ok": true,
              "headers": [
                [
                  "content-type",
                  "application/javascript"
                ]
              ],
              "status": 200,
              "status_text": ""
            }
          },
          "base_uri": "https://localhost:8080/",
          "height": 55
        },
        "outputId": "a4474a1d-0791-441f-d0b8-ae0706cf4746",
        "executionInfo": {
          "status": "ok",
          "timestamp": 1528049844035,
          "user_tz": 420,
          "elapsed": 31212,
          "user": {
            "displayName": "Zimei Yang",
            "photoUrl": "https://lh3.googleusercontent.com/a/default-user=s128",
            "userId": "103997432320800495390"
          }
        }
      },
      "cell_type": "code",
      "source": [
        "# upload data\n",
        "from google.colab import files\n",
        "files.upload()  # choose file \"datahomework2.xls\" from computer"
      ],
      "execution_count": 130,
      "outputs": [
        {
          "output_type": "display_data",
          "data": {
            "text/html": [
              "\n",
              "     <input type=\"file\" id=\"files-9667ea0c-c949-4b82-b8fc-988cf426b585\" name=\"files[]\" multiple disabled />\n",
              "     <output id=\"result-9667ea0c-c949-4b82-b8fc-988cf426b585\">\n",
              "      Upload widget is only available when the cell has been executed in the\n",
              "      current browser session. Please rerun this cell to enable.\n",
              "      </output>\n",
              "      <script src=\"/nbextensions/google.colab/files.js\"></script> "
            ],
            "text/plain": [
              "<IPython.core.display.HTML object>"
            ]
          },
          "metadata": {
            "tags": []
          }
        },
        {
          "output_type": "execute_result",
          "data": {
            "text/plain": [
              "{}"
            ]
          },
          "metadata": {
            "tags": []
          },
          "execution_count": 130
        }
      ]
    },
    {
      "metadata": {
        "id": "AE1xYY9iHusI",
        "colab_type": "code",
        "colab": {
          "autoexec": {
            "startup": false,
            "wait_interval": 0
          },
          "base_uri": "https://localhost:8080/",
          "height": 201
        },
        "outputId": "8ee1dbef-4eaf-45bb-93b3-503e57430129",
        "executionInfo": {
          "status": "ok",
          "timestamp": 1528049844443,
          "user_tz": 420,
          "elapsed": 374,
          "user": {
            "displayName": "Zimei Yang",
            "photoUrl": "https://lh3.googleusercontent.com/a/default-user=s128",
            "userId": "103997432320800495390"
          }
        }
      },
      "cell_type": "code",
      "source": [
        "# read data into dataframe\n",
        "df=pd.read_excel(\"datahomework2.xls\")\n",
        "df.head()"
      ],
      "execution_count": 131,
      "outputs": [
        {
          "output_type": "execute_result",
          "data": {
            "text/html": [
              "<div>\n",
              "<style scoped>\n",
              "    .dataframe tbody tr th:only-of-type {\n",
              "        vertical-align: middle;\n",
              "    }\n",
              "\n",
              "    .dataframe tbody tr th {\n",
              "        vertical-align: top;\n",
              "    }\n",
              "\n",
              "    .dataframe thead th {\n",
              "        text-align: right;\n",
              "    }\n",
              "</style>\n",
              "<table border=\"1\" class=\"dataframe\">\n",
              "  <thead>\n",
              "    <tr style=\"text-align: right;\">\n",
              "      <th></th>\n",
              "      <th>Amazon</th>\n",
              "      <th>Apple</th>\n",
              "      <th>Ebay</th>\n",
              "      <th>Facebook</th>\n",
              "      <th>Google</th>\n",
              "      <th>Twitter</th>\n",
              "    </tr>\n",
              "  </thead>\n",
              "  <tbody>\n",
              "    <tr>\n",
              "      <th>0</th>\n",
              "      <td>252.585</td>\n",
              "      <td>106.250000</td>\n",
              "      <td>23.457600</td>\n",
              "      <td>77.190002</td>\n",
              "      <td>519.500000</td>\n",
              "      <td>36.380001</td>\n",
              "    </tr>\n",
              "    <tr>\n",
              "      <th>1</th>\n",
              "      <td>245.488</td>\n",
              "      <td>106.260002</td>\n",
              "      <td>23.156700</td>\n",
              "      <td>76.150002</td>\n",
              "      <td>506.600006</td>\n",
              "      <td>37.279999</td>\n",
              "    </tr>\n",
              "    <tr>\n",
              "      <th>2</th>\n",
              "      <td>253.816</td>\n",
              "      <td>107.750000</td>\n",
              "      <td>23.116699</td>\n",
              "      <td>76.150002</td>\n",
              "      <td>505.200012</td>\n",
              "      <td>39.090000</td>\n",
              "    </tr>\n",
              "    <tr>\n",
              "      <th>3</th>\n",
              "      <td>256.030</td>\n",
              "      <td>111.889999</td>\n",
              "      <td>23.741699</td>\n",
              "      <td>78.175003</td>\n",
              "      <td>506.899994</td>\n",
              "      <td>40.169998</td>\n",
              "    </tr>\n",
              "    <tr>\n",
              "      <th>4</th>\n",
              "      <td>253.299</td>\n",
              "      <td>112.010002</td>\n",
              "      <td>23.413401</td>\n",
              "      <td>77.739998</td>\n",
              "      <td>500.700012</td>\n",
              "      <td>39.369999</td>\n",
              "    </tr>\n",
              "  </tbody>\n",
              "</table>\n",
              "</div>"
            ],
            "text/plain": [
              "    Amazon       Apple       Ebay   Facebook      Google    Twitter\n",
              "0  252.585  106.250000  23.457600  77.190002  519.500000  36.380001\n",
              "1  245.488  106.260002  23.156700  76.150002  506.600006  37.279999\n",
              "2  253.816  107.750000  23.116699  76.150002  505.200012  39.090000\n",
              "3  256.030  111.889999  23.741699  78.175003  506.899994  40.169998\n",
              "4  253.299  112.010002  23.413401  77.739998  500.700012  39.369999"
            ]
          },
          "metadata": {
            "tags": []
          },
          "execution_count": 131
        }
      ]
    },
    {
      "metadata": {
        "id": "XaAKTHbdXWj5",
        "colab_type": "code",
        "colab": {
          "autoexec": {
            "startup": false,
            "wait_interval": 0
          },
          "base_uri": "https://localhost:8080/",
          "height": 34
        },
        "outputId": "808560a3-e7d7-4579-a81e-800d873e69fb",
        "executionInfo": {
          "status": "ok",
          "timestamp": 1528049844973,
          "user_tz": 420,
          "elapsed": 384,
          "user": {
            "displayName": "Zimei Yang",
            "photoUrl": "https://lh3.googleusercontent.com/a/default-user=s128",
            "userId": "103997432320800495390"
          }
        }
      },
      "cell_type": "code",
      "source": [
        "# see dimension of the full data set --- 800 days of data for 6 stokcs\n",
        "df.shape"
      ],
      "execution_count": 132,
      "outputs": [
        {
          "output_type": "execute_result",
          "data": {
            "text/plain": [
              "(799, 6)"
            ]
          },
          "metadata": {
            "tags": []
          },
          "execution_count": 132
        }
      ]
    },
    {
      "metadata": {
        "id": "-kZItRz2Vk0f",
        "colab_type": "text"
      },
      "cell_type": "markdown",
      "source": [
        "### A. Compute the rate of returns for each stock"
      ]
    },
    {
      "metadata": {
        "id": "_gYunUxcky20",
        "colab_type": "code",
        "colab": {
          "autoexec": {
            "startup": false,
            "wait_interval": 0
          },
          "base_uri": "https://localhost:8080/",
          "height": 201
        },
        "outputId": "8a99b17b-a140-4271-e07d-8545854652eb",
        "executionInfo": {
          "status": "ok",
          "timestamp": 1528049847467,
          "user_tz": 420,
          "elapsed": 2196,
          "user": {
            "displayName": "Zimei Yang",
            "photoUrl": "https://lh3.googleusercontent.com/a/default-user=s128",
            "userId": "103997432320800495390"
          }
        }
      },
      "cell_type": "code",
      "source": [
        "df_returns = pd.DataFrame(index=range(len(df)-1), columns=[[\"Amazon\",\"Apple\", \"Ebay\",\"Facebook\",\"Google\",\"Twitter\"]], dtype=float)\n",
        "\n",
        "for i in range(6):\n",
        "    for t in range(len(df)-1):\n",
        "        df_returns.iloc[t][i] = (df.iloc[t+1][i]-df.iloc[t][i])/df.iloc[t][i]\n",
        "        \n",
        "df_returns.head()"
      ],
      "execution_count": 133,
      "outputs": [
        {
          "output_type": "execute_result",
          "data": {
            "text/html": [
              "<div>\n",
              "<style scoped>\n",
              "    .dataframe tbody tr th:only-of-type {\n",
              "        vertical-align: middle;\n",
              "    }\n",
              "\n",
              "    .dataframe tbody tr th {\n",
              "        vertical-align: top;\n",
              "    }\n",
              "\n",
              "    .dataframe thead tr th {\n",
              "        text-align: left;\n",
              "    }\n",
              "</style>\n",
              "<table border=\"1\" class=\"dataframe\">\n",
              "  <thead>\n",
              "    <tr>\n",
              "      <th></th>\n",
              "      <th>Amazon</th>\n",
              "      <th>Apple</th>\n",
              "      <th>Ebay</th>\n",
              "      <th>Facebook</th>\n",
              "      <th>Google</th>\n",
              "      <th>Twitter</th>\n",
              "    </tr>\n",
              "  </thead>\n",
              "  <tbody>\n",
              "    <tr>\n",
              "      <th>0</th>\n",
              "      <td>-0.028097</td>\n",
              "      <td>0.000094</td>\n",
              "      <td>-0.012827</td>\n",
              "      <td>-0.013473</td>\n",
              "      <td>-0.024832</td>\n",
              "      <td>0.024739</td>\n",
              "    </tr>\n",
              "    <tr>\n",
              "      <th>1</th>\n",
              "      <td>0.033924</td>\n",
              "      <td>0.014022</td>\n",
              "      <td>-0.001727</td>\n",
              "      <td>0.000000</td>\n",
              "      <td>-0.002764</td>\n",
              "      <td>0.048552</td>\n",
              "    </tr>\n",
              "    <tr>\n",
              "      <th>2</th>\n",
              "      <td>0.008723</td>\n",
              "      <td>0.038422</td>\n",
              "      <td>0.027037</td>\n",
              "      <td>0.026592</td>\n",
              "      <td>0.003365</td>\n",
              "      <td>0.027628</td>\n",
              "    </tr>\n",
              "    <tr>\n",
              "      <th>3</th>\n",
              "      <td>-0.010667</td>\n",
              "      <td>0.001073</td>\n",
              "      <td>-0.013828</td>\n",
              "      <td>-0.005565</td>\n",
              "      <td>-0.012231</td>\n",
              "      <td>-0.019915</td>\n",
              "    </tr>\n",
              "    <tr>\n",
              "      <th>4</th>\n",
              "      <td>-0.028460</td>\n",
              "      <td>-0.024641</td>\n",
              "      <td>-0.007726</td>\n",
              "      <td>-0.013121</td>\n",
              "      <td>-0.007190</td>\n",
              "      <td>0.007112</td>\n",
              "    </tr>\n",
              "  </tbody>\n",
              "</table>\n",
              "</div>"
            ],
            "text/plain": [
              "     Amazon     Apple      Ebay  Facebook    Google   Twitter\n",
              "0 -0.028097  0.000094 -0.012827 -0.013473 -0.024832  0.024739\n",
              "1  0.033924  0.014022 -0.001727  0.000000 -0.002764  0.048552\n",
              "2  0.008723  0.038422  0.027037  0.026592  0.003365  0.027628\n",
              "3 -0.010667  0.001073 -0.013828 -0.005565 -0.012231 -0.019915\n",
              "4 -0.028460 -0.024641 -0.007726 -0.013121 -0.007190  0.007112"
            ]
          },
          "metadata": {
            "tags": []
          },
          "execution_count": 133
        }
      ]
    },
    {
      "metadata": {
        "id": "KIapizPWYhb3",
        "colab_type": "text"
      },
      "cell_type": "markdown",
      "source": [
        "### B. Compute the average return that will use in the optimization"
      ]
    },
    {
      "metadata": {
        "id": "pUtj7GyRnM7p",
        "colab_type": "code",
        "colab": {
          "autoexec": {
            "startup": false,
            "wait_interval": 0
          },
          "base_uri": "https://localhost:8080/",
          "height": 50
        },
        "outputId": "04709f14-2a3f-41b4-fc71-2ab02ef47ef9",
        "executionInfo": {
          "status": "ok",
          "timestamp": 1528049847869,
          "user_tz": 420,
          "elapsed": 374,
          "user": {
            "displayName": "Zimei Yang",
            "photoUrl": "https://lh3.googleusercontent.com/a/default-user=s128",
            "userId": "103997432320800495390"
          }
        }
      },
      "cell_type": "code",
      "source": [
        "returns = df_returns + 1 \n",
        "geometric_mean = stats.gmean(returns.iloc[:, 0:6], axis = 0)\n",
        "mu = geometric_mean-1  \n",
        "mu"
      ],
      "execution_count": 134,
      "outputs": [
        {
          "output_type": "execute_result",
          "data": {
            "text/plain": [
              "array([ 1.98778605e-03,  6.25712685e-04,  7.54726158e-04,  1.08819147e-03,\n",
              "        9.73603071e-04, -2.78636077e-05])"
            ]
          },
          "metadata": {
            "tags": []
          },
          "execution_count": 134
        }
      ]
    },
    {
      "metadata": {
        "id": "tRYHQCD_Zinc",
        "colab_type": "text"
      },
      "cell_type": "markdown",
      "source": [
        "### C. Compute the variance-covariance matrix of the stock returns"
      ]
    },
    {
      "metadata": {
        "id": "a4tQVpCoUe5x",
        "colab_type": "code",
        "colab": {
          "autoexec": {
            "startup": false,
            "wait_interval": 0
          }
        }
      },
      "cell_type": "code",
      "source": [
        "covariance = []\n",
        "\n",
        "for i in range(6):\n",
        "    for j in range(6):\n",
        "        covariance.append(  sum(  (df_returns.iloc[:,i]- mu[i]) * (df_returns.iloc[:,j] - mu[j])  )/  len(df_returns)  )\n",
        "        \n",
        "Cov = np.asarray(covariance).reshape((6,6))"
      ],
      "execution_count": 0,
      "outputs": []
    },
    {
      "metadata": {
        "id": "Kcgm1gQ2a6lc",
        "colab_type": "text"
      },
      "cell_type": "markdown",
      "source": [
        "### D. Provide the vector 𝜇 and the variance-covariance matrix 𝛴 for the 6 assets considered."
      ]
    },
    {
      "metadata": {
        "id": "mqUS3sIaa5t6",
        "colab_type": "code",
        "colab": {
          "autoexec": {
            "startup": false,
            "wait_interval": 0
          },
          "base_uri": "https://localhost:8080/",
          "height": 253
        },
        "outputId": "91a0bf72-5097-4812-d903-11c46341b769",
        "executionInfo": {
          "status": "ok",
          "timestamp": 1528049848954,
          "user_tz": 420,
          "elapsed": 355,
          "user": {
            "displayName": "Zimei Yang",
            "photoUrl": "https://lh3.googleusercontent.com/a/default-user=s128",
            "userId": "103997432320800495390"
          }
        }
      },
      "cell_type": "code",
      "source": [
        "print(\"vector 𝜇 :\", mu)\n",
        "print(\"variance-covariance matrix 𝛴 :\", Cov)"
      ],
      "execution_count": 136,
      "outputs": [
        {
          "output_type": "stream",
          "text": [
            "vector 𝜇 : [ 1.98778605e-03  6.25712685e-04  7.54726158e-04  1.08819147e-03\n",
            "  9.73603071e-04 -2.78636077e-05]\n",
            "variance-covariance matrix 𝛴 : [[ 4.06726597e-04  4.62385509e-06  1.22907272e-05 -1.05296935e-05\n",
            "   6.57882666e-06 -9.47880356e-05]\n",
            " [ 4.62385509e-06  2.10550652e-04  5.98771009e-05  6.93741999e-05\n",
            "   6.00324610e-05  4.03738159e-05]\n",
            " [ 1.22907272e-05  5.98771009e-05  2.91691955e-04  2.70917635e-05\n",
            "   5.45309717e-05  2.44067414e-05]\n",
            " [-1.05296935e-05  6.93741999e-05  2.70917635e-05  2.42074700e-04\n",
            "   9.88492704e-05  2.19647432e-05]\n",
            " [ 6.57882666e-06  6.00324610e-05  5.45309717e-05  9.88492704e-05\n",
            "   2.02597988e-04  9.69833772e-06]\n",
            " [-9.47880356e-05  4.03738159e-05  2.44067414e-05  2.19647432e-05\n",
            "   9.69833772e-06  1.07017537e-03]]\n"
          ],
          "name": "stdout"
        }
      ]
    },
    {
      "metadata": {
        "id": "E03EIBbdTJfN",
        "colab_type": "text"
      },
      "cell_type": "markdown",
      "source": [
        "## 2. Minimizing Risk\n",
        "\n",
        "The goal is to find an optimal allocation 𝑥 = {𝑥1, 𝑥2, 𝑥3, 𝑥4, 𝑥5, 𝑥6} that minimizes risk of the portfolio with a constraint on the minimum returns:\n",
        " \n",
        " \n",
        " \n",
        "\\begin{align}\n",
        "\\text{Minimize} \\quad \\frac{1}{2} x^T & \\Sigma x\\\\\n",
        "\\text{Subject to}\\quad \\mu^T x &\\geq R\\\\\n",
        "\\sum_{i=1}^6x_i&=1\\\\\n",
        "x&\\geq0\n",
        "\\end{align}\n",
        "\n",
        "\n",
        "where R is the annual return that the investor wants to achieve, with 𝑅 = 0.07."
      ]
    },
    {
      "metadata": {
        "id": "5vROwgSsb_YV",
        "colab_type": "code",
        "colab": {
          "autoexec": {
            "startup": false,
            "wait_interval": 0
          }
        }
      },
      "cell_type": "code",
      "source": [
        "# R is the annual return that the investor wants to achieve, with 𝑅 = 0.07\n",
        "# stock market operates 250 days a year\n",
        "R=0.07/250\n",
        "\n",
        "# 6 stocks  \n",
        "x=cvx.Variable(6)"
      ],
      "execution_count": 0,
      "outputs": []
    },
    {
      "metadata": {
        "id": "rZIXC12qRFZ2",
        "colab_type": "code",
        "colab": {
          "autoexec": {
            "startup": false,
            "wait_interval": 0
          }
        }
      },
      "cell_type": "code",
      "source": [
        "risk=quad_form(x, Cov)\n",
        "rr=sum_entries(mu*x)"
      ],
      "execution_count": 0,
      "outputs": []
    },
    {
      "metadata": {
        "id": "I1Q7L3T83sP7",
        "colab_type": "code",
        "colab": {
          "autoexec": {
            "startup": false,
            "wait_interval": 0
          },
          "base_uri": "https://localhost:8080/",
          "height": 118
        },
        "outputId": "ed0fe7b7-1f79-474c-94ba-0063b6e3588d",
        "executionInfo": {
          "status": "ok",
          "timestamp": 1528049850736,
          "user_tz": 420,
          "elapsed": 576,
          "user": {
            "displayName": "Zimei Yang",
            "photoUrl": "https://lh3.googleusercontent.com/a/default-user=s128",
            "userId": "103997432320800495390"
          }
        }
      },
      "cell_type": "code",
      "source": [
        "prob1 = Problem(Minimize(risk), \n",
        "               [rr>=R,\n",
        "                sum_entries(x) == 1, \n",
        "                x >= 0])\n",
        "prob1.solve()\n",
        "print(x.value)"
      ],
      "execution_count": 139,
      "outputs": [
        {
          "output_type": "stream",
          "text": [
            "[[0.20423419]\n",
            " [0.19553757]\n",
            " [0.16169524]\n",
            " [0.1737625 ]\n",
            " [0.18989799]\n",
            " [0.0748725 ]]\n"
          ],
          "name": "stdout"
        }
      ]
    },
    {
      "metadata": {
        "id": "0AilL9S4lvDI",
        "colab_type": "code",
        "colab": {
          "autoexec": {
            "startup": false,
            "wait_interval": 0
          },
          "base_uri": "https://localhost:8080/",
          "height": 34
        },
        "outputId": "a6a0db1d-a3a9-4105-909b-378256140fc8",
        "executionInfo": {
          "status": "ok",
          "timestamp": 1528049851279,
          "user_tz": 420,
          "elapsed": 362,
          "user": {
            "displayName": "Zimei Yang",
            "photoUrl": "https://lh3.googleusercontent.com/a/default-user=s128",
            "userId": "103997432320800495390"
          }
        }
      },
      "cell_type": "code",
      "source": [
        "df.columns"
      ],
      "execution_count": 140,
      "outputs": [
        {
          "output_type": "execute_result",
          "data": {
            "text/plain": [
              "Index(['Amazon', 'Apple', 'Ebay', 'Facebook', 'Google', 'Twitter'], dtype='object')"
            ]
          },
          "metadata": {
            "tags": []
          },
          "execution_count": 140
        }
      ]
    },
    {
      "metadata": {
        "id": "B5-84DxoTVix",
        "colab_type": "text"
      },
      "cell_type": "markdown",
      "source": [
        "## 3. Maximizing Returns (Utility)\n",
        "\n",
        "Another approach to portfolio optimization is to optimize the expected returns that the portfolio would give while penalizing for volatility (variance). Specifically, find out what is the\n",
        "allocation 𝑥 = {𝑥1, 𝑥2, 𝑥3, 𝑥4, 𝑥5, 𝑥6} that solve the following optimization problem\n",
        "\n",
        "\n",
        "\\begin{align} \n",
        "\\text{Maximize}\\quad \\ 𝜇^T x  - 𝛾 * sqrt(x^T  & \\Sigma x)\\\\\n",
        "\\text{Subject to}\\quad \\sum_{i=1}^6x_i&=1\\\\\n",
        "x&\\geq0\n",
        "\\end{align}\n",
        "\n",
        "\n",
        "where 𝛾 is the risk aversion coefficient of the investor. Report the optimal allocations for 𝛾 = 0.1, 𝛾 = 0.15 and 𝛾 = 0.2, as well as the value of the objective function. "
      ]
    },
    {
      "metadata": {
        "id": "7b9i3QmRtAoZ",
        "colab_type": "code",
        "colab": {
          "autoexec": {
            "startup": false,
            "wait_interval": 0
          }
        }
      },
      "cell_type": "code",
      "source": [
        "# turn vector 𝜇 into matrix\n",
        "mu = np.asmatrix(mu)\n",
        "\n",
        "# define variable matrix\n",
        "x_mat = matrix([0,0,0,0,0,0])\n",
        "\n",
        "#define bounds\n",
        "bounds = ((0,None),(0,None),(0,None),(0,None),(0,None),(0,None))"
      ],
      "execution_count": 0,
      "outputs": []
    },
    {
      "metadata": {
        "id": "smMMzNR-nLmY",
        "colab_type": "code",
        "colab": {
          "autoexec": {
            "startup": false,
            "wait_interval": 0
          }
        }
      },
      "cell_type": "code",
      "source": [
        "# define objective functions ---- returns with 𝛾 = 0.1, 𝛾 = 0.15 and 𝛾 = 0.2\n",
        "# 𝛾 = 0.1\n",
        "def return1(x):\n",
        "    return -(x.T * mu.T-0.1*np.sqrt(np.dot(np.dot(x.T,Cov),x)))\n",
        "  \n",
        "# 𝛾 = 0.15\n",
        "def return15(x):\n",
        "    return -(x.T * mu.T-0.15*np.sqrt(np.dot(np.dot(x.T,Cov),x)))\n",
        "  \n",
        "# 𝛾 = 0.2\n",
        "def return2(x):\n",
        "    return -(x.T * mu.T-0.2*np.sqrt(np.dot(np.dot(x.T,Cov),x)))"
      ],
      "execution_count": 0,
      "outputs": []
    },
    {
      "metadata": {
        "id": "qVV3tchwmjSE",
        "colab_type": "code",
        "colab": {
          "autoexec": {
            "startup": false,
            "wait_interval": 0
          }
        }
      },
      "cell_type": "code",
      "source": [
        "# solve the optimization problem using scipy.optimize.minimize \n",
        "\n",
        "allocation1 = minimize(return1, \n",
        "                       x_mat, \n",
        "                       constraints = ({'type':'eq','fun':lambda x: x[0]+x[1]+x[2]+x[3]+x[4]+x[5]-1}),\n",
        "                       bounds = bounds,)\n",
        "\n",
        "allocation15 = minimize(return15, \n",
        "                       x_mat, \n",
        "                       constraints = ({'type':'eq','fun':lambda x: x[0]+x[1]+x[2]+x[3]+x[4]+x[5]-1}),\n",
        "                       bounds = bounds,)\n",
        "\n",
        "allocation2 = minimize(return2, \n",
        "                       x_mat, \n",
        "                       constraints = ({'type':'eq','fun':lambda x: x[0]+x[1]+x[2]+x[3]+x[4]+x[5]-1}),\n",
        "                       bounds = bounds,)"
      ],
      "execution_count": 0,
      "outputs": []
    },
    {
      "metadata": {
        "id": "rLNdnYfon6Wy",
        "colab_type": "code",
        "colab": {
          "autoexec": {
            "startup": false,
            "wait_interval": 0
          },
          "base_uri": "https://localhost:8080/",
          "height": 67
        },
        "outputId": "d95a58d2-97ae-48f0-da7e-959ca53021c6",
        "executionInfo": {
          "status": "ok",
          "timestamp": 1528049853251,
          "user_tz": 420,
          "elapsed": 377,
          "user": {
            "displayName": "Zimei Yang",
            "photoUrl": "https://lh3.googleusercontent.com/a/default-user=s128",
            "userId": "103997432320800495390"
          }
        }
      },
      "cell_type": "code",
      "source": [
        "# see allocations\n",
        "print(\"When 𝛾 = 0.1 the optimal allocation is\", allocation1.x)\n",
        "print(\"When 𝛾 = 0.15 the optimal allocation is\", allocation15.x)\n",
        "print(\"When 𝛾 = 0.2 the optimal allocation is\", allocation2.x)"
      ],
      "execution_count": 144,
      "outputs": [
        {
          "output_type": "stream",
          "text": [
            "When 𝛾 = 0.1 the optimal allocation is [0.29673507 0.15517325 0.16262406 0.19665145 0.18881617 0.        ]\n",
            "When 𝛾 = 0.15 the optimal allocation is [0.28018167 0.16294494 0.16697884 0.19507088 0.18997784 0.00484583]\n",
            "When 𝛾 = 0.2 the optimal allocation is [0.25909832 0.16777295 0.16933456 0.19127109 0.1882994  0.02422369]\n"
          ],
          "name": "stdout"
        }
      ]
    },
    {
      "metadata": {
        "id": "G2jj6x7jwSol",
        "colab_type": "code",
        "colab": {
          "autoexec": {
            "startup": false,
            "wait_interval": 0
          },
          "base_uri": "https://localhost:8080/",
          "height": 67
        },
        "outputId": "948cd52c-d557-45e3-859a-7ade3d05f619",
        "executionInfo": {
          "status": "ok",
          "timestamp": 1528049919412,
          "user_tz": 420,
          "elapsed": 442,
          "user": {
            "displayName": "Zimei Yang",
            "photoUrl": "https://lh3.googleusercontent.com/a/default-user=s128",
            "userId": "103997432320800495390"
          }
        }
      },
      "cell_type": "code",
      "source": [
        "# see value of the object function\n",
        "print(\"When 𝛾 = 0.1 the value of objective function is\", -allocation1.fun)\n",
        "print(\"When 𝛾 = 0.15 the value of objective function is\", -allocation15.fun)\n",
        "print(\"When 𝛾 = 0.2 the value of objective function is\", -allocation2.fun)"
      ],
      "execution_count": 145,
      "outputs": [
        {
          "output_type": "stream",
          "text": [
            "When 𝛾 = 0.1 the value of objective function is 0.00026146965846262087\n",
            "When 𝛾 = 0.15 the value of objective function is -0.00021840172639915568\n",
            "When 𝛾 = 0.2 the value of objective function is -0.0006831786971098798\n"
          ],
          "name": "stdout"
        }
      ]
    },
    {
      "metadata": {
        "id": "Fprfbeem32N8",
        "colab_type": "code",
        "colab": {
          "autoexec": {
            "startup": false,
            "wait_interval": 0
          },
          "base_uri": "https://localhost:8080/",
          "height": 140
        },
        "outputId": "defd6a5e-f23b-4c04-a250-5029fee174d7",
        "executionInfo": {
          "status": "ok",
          "timestamp": 1528049930819,
          "user_tz": 420,
          "elapsed": 1676,
          "user": {
            "displayName": "Zimei Yang",
            "photoUrl": "https://lh3.googleusercontent.com/a/default-user=s128",
            "userId": "103997432320800495390"
          }
        }
      },
      "cell_type": "code",
      "source": [
        "col = {'Risk Aversion':['gamma=0.1','gamma=0.15','gamma=0.2'],\n",
        "     'Amazon': [round(allocation1.x.item(0),4), round(allocation15.x.item(0),4), round(allocation2.x.item(0),4)],\n",
        "     'Apple': [ round(allocation1.x.item(1),4), round(allocation15.x.item(1),4), round(allocation2.x.item(1),4)],\n",
        "     'EBay': [round(allocation1.x.item(2),4), round(allocation15.x.item(2),4), round(allocation2.x.item(2),4)],\n",
        "     'Facebook': [round(allocation1.x.item(3),4), round(allocation15.x.item(3),4), round(allocation2.x.item(3),4)],\n",
        "     'Google': [round(allocation1.x.item(4),4), round(allocation15.x.item(4),4), round(allocation2.x.item(4),4)],\n",
        "     'Twitter': [round(allocation1.x.item(5),4), round(allocation15.x.item(5),4), round(allocation2.x.item(5),4)],\n",
        "     'Optimal Result': [round(-allocation1.fun,4), round(-allocation15.fun,4), round(-allocation2.fun,4)]}\n",
        "\n",
        "table = pd.DataFrame(col, columns=['Risk Aversion', 'Amazon', 'Apple', 'EBay', 'Facebook', 'Google', 'Twitter', 'Optimal Result'])\n",
        "table"
      ],
      "execution_count": 147,
      "outputs": [
        {
          "output_type": "execute_result",
          "data": {
            "text/html": [
              "<div>\n",
              "<style scoped>\n",
              "    .dataframe tbody tr th:only-of-type {\n",
              "        vertical-align: middle;\n",
              "    }\n",
              "\n",
              "    .dataframe tbody tr th {\n",
              "        vertical-align: top;\n",
              "    }\n",
              "\n",
              "    .dataframe thead th {\n",
              "        text-align: right;\n",
              "    }\n",
              "</style>\n",
              "<table border=\"1\" class=\"dataframe\">\n",
              "  <thead>\n",
              "    <tr style=\"text-align: right;\">\n",
              "      <th></th>\n",
              "      <th>Risk Aversion</th>\n",
              "      <th>Amazon</th>\n",
              "      <th>Apple</th>\n",
              "      <th>EBay</th>\n",
              "      <th>Facebook</th>\n",
              "      <th>Google</th>\n",
              "      <th>Twitter</th>\n",
              "      <th>Optimal Result</th>\n",
              "    </tr>\n",
              "  </thead>\n",
              "  <tbody>\n",
              "    <tr>\n",
              "      <th>0</th>\n",
              "      <td>gamma=0.1</td>\n",
              "      <td>0.2967</td>\n",
              "      <td>0.1552</td>\n",
              "      <td>0.1626</td>\n",
              "      <td>0.1967</td>\n",
              "      <td>0.1888</td>\n",
              "      <td>0.0000</td>\n",
              "      <td>0.0003</td>\n",
              "    </tr>\n",
              "    <tr>\n",
              "      <th>1</th>\n",
              "      <td>gamma=0.15</td>\n",
              "      <td>0.2802</td>\n",
              "      <td>0.1629</td>\n",
              "      <td>0.1670</td>\n",
              "      <td>0.1951</td>\n",
              "      <td>0.1900</td>\n",
              "      <td>0.0048</td>\n",
              "      <td>-0.0002</td>\n",
              "    </tr>\n",
              "    <tr>\n",
              "      <th>2</th>\n",
              "      <td>gamma=0.2</td>\n",
              "      <td>0.2591</td>\n",
              "      <td>0.1678</td>\n",
              "      <td>0.1693</td>\n",
              "      <td>0.1913</td>\n",
              "      <td>0.1883</td>\n",
              "      <td>0.0242</td>\n",
              "      <td>-0.0007</td>\n",
              "    </tr>\n",
              "  </tbody>\n",
              "</table>\n",
              "</div>"
            ],
            "text/plain": [
              "  Risk Aversion  Amazon   Apple    EBay  Facebook  Google  Twitter  \\\n",
              "0     gamma=0.1  0.2967  0.1552  0.1626    0.1967  0.1888   0.0000   \n",
              "1    gamma=0.15  0.2802  0.1629  0.1670    0.1951  0.1900   0.0048   \n",
              "2     gamma=0.2  0.2591  0.1678  0.1693    0.1913  0.1883   0.0242   \n",
              "\n",
              "   Optimal Result  \n",
              "0          0.0003  \n",
              "1         -0.0002  \n",
              "2         -0.0007  "
            ]
          },
          "metadata": {
            "tags": []
          },
          "execution_count": 147
        }
      ]
    },
    {
      "metadata": {
        "id": "tvuclj7c4B-K",
        "colab_type": "text"
      },
      "cell_type": "markdown",
      "source": [
        "The different allocations are caused by the different level of risk aversion. The less the risk aversion coefficient, the higher risk the investor is willing to take. Therefore, we can see that, when the risk aversion coefficient is at the lowest level, 0.1, the optimal allocation is to focus more on the stocks with high returns and invest in these stocks with higher risks but also higher returns, such as Amazon and Facebook, and avoid stocks with low returns even though they’re less risky, like Twitter. Contrarily, when the risk aversion coefficient is at the highest level here, 0.2, the optimal allocation is to invest more diversely on multiple assets, invest less on highly risky stocks even if they might bring higher returns, such as Amazon and Facebook, and increase investment on stocks that are less risky, like Twitter and eBay."
      ]
    },
    {
      "metadata": {
        "id": "7JRfa1zTwxni",
        "colab_type": "text"
      },
      "cell_type": "markdown",
      "source": [
        "## 4. Simulations\n",
        "Based on the optimal allocations 𝑥∗ obtained in the two questions above, 𝜇 and 𝛴,  simulate the value of your portfolio after 300 trading days assuming that we have invested $100,000.\n",
        "* Report the mean and the variance of the portfolio in a table\n",
        "* Provide visualizations of your results."
      ]
    },
    {
      "metadata": {
        "id": "iX96DGrE2XB3",
        "colab_type": "code",
        "colab": {
          "autoexec": {
            "startup": false,
            "wait_interval": 0
          }
        }
      },
      "cell_type": "code",
      "source": [
        "simu = 200  # we are doing 250 simulations\n",
        "T = 300  # 300 trading days\n",
        "m = 6  # we have # 6 assets\n",
        "B = 100000  # Budget is $100,000\n",
        "mu1 = mu.tolist()[0] # tranform the mu matrix to a vector"
      ],
      "execution_count": 0,
      "outputs": []
    },
    {
      "metadata": {
        "id": "9LW344tgwjIo",
        "colab_type": "code",
        "colab": {
          "autoexec": {
            "startup": false,
            "wait_interval": 0
          },
          "base_uri": "https://localhost:8080/",
          "height": 375
        },
        "outputId": "9e0747fe-319c-4d07-ab16-8b7d25a5858c",
        "executionInfo": {
          "status": "ok",
          "timestamp": 1528046406324,
          "user_tz": 420,
          "elapsed": 10570,
          "user": {
            "displayName": "Zimei Yang",
            "photoUrl": "https://lh3.googleusercontent.com/a/default-user=s128",
            "userId": "103997432320800495390"
          }
        }
      },
      "cell_type": "code",
      "source": [
        "# When 𝛾 = 0.1\n",
        "z_values = []\n",
        "for q in range(simu):\n",
        "    y = np.zeros((T+1,m))\n",
        "    y[0]=[allocation1.x.item(0), allocation1.x.item(1), allocation1.x.item(2),\n",
        "          allocation1.x.item(3), allocation1.x.item(4), allocation1.x.item(5)]\n",
        "    for i in range(T):\n",
        "        rr=np.random.multivariate_normal(mu1,Cov)  \n",
        "        y[i+1]=y[i]*(1+rr)\n",
        "    z_values.append(sum(y[T])*B)\n",
        "        \n",
        "mean1 = np.mean(z_values)\n",
        "var1 = np.var(z_values)\n",
        "\n",
        "plt.hist(z_values, density=True )\n",
        "plt.xlabel('Portfolio')\n",
        "plt.ylabel('Probability')\n",
        "plt.title('Histogram of Returns When gamma = 0.1')\n",
        "plt.show()"
      ],
      "execution_count": 99,
      "outputs": [
        {
          "output_type": "display_data",
          "data": {
            "image/png": "[encoded data removed]",
            "text/plain": [
              "<matplotlib.figure.Figure at 0x7f79411721d0>"
            ]
          },
          "metadata": {
            "tags": []
          }
        }
      ]
    },
    {
      "metadata": {
        "id": "OA5fikR52z-z",
        "colab_type": "code",
        "colab": {
          "autoexec": {
            "startup": false,
            "wait_interval": 0
          },
          "base_uri": "https://localhost:8080/",
          "height": 375
        },
        "outputId": "0ec3523c-2397-4a60-8898-743119fff9d1",
        "executionInfo": {
          "status": "ok",
          "timestamp": 1528046427832,
          "user_tz": 420,
          "elapsed": 10308,
          "user": {
            "displayName": "Zimei Yang",
            "photoUrl": "https://lh3.googleusercontent.com/a/default-user=s128",
            "userId": "103997432320800495390"
          }
        }
      },
      "cell_type": "code",
      "source": [
        "# When 𝛾 = 0.15\n",
        "z_values = []\n",
        "for q in range(simu):\n",
        "    y = np.zeros((T+1,m))\n",
        "    y[0]=[allocation15.x.item(0), allocation15.x.item(1), allocation15.x.item(2),\n",
        "          allocation15.x.item(3), allocation15.x.item(4), allocation15.x.item(5)]\n",
        "    for i in range(T):\n",
        "        rr=np.random.multivariate_normal(mu1,Cov)\n",
        "        y[i+1]=y[i]*(1+rr)\n",
        "    z_values.append(sum(y[T])*B)\n",
        "\n",
        "mean15 = np.mean(z_values)\n",
        "var15 = np.var(z_values)\n",
        "\n",
        "plt.hist(z_values, density=True )\n",
        "plt.xlabel('Portfolio')\n",
        "plt.ylabel('Probability')\n",
        "plt.title('Histogram of Returns When gamma = 0.15 ')\n",
        "plt.show()"
      ],
      "execution_count": 101,
      "outputs": [
        {
          "output_type": "display_data",
          "data": {
            "image/png": "[encoded data removed]",
            "text/plain": [
              "<matplotlib.figure.Figure at 0x7f79410725c0>"
            ]
          },
          "metadata": {
            "tags": []
          }
        }
      ]
    },
    {
      "metadata": {
        "id": "kJPTfMy_3C4Q",
        "colab_type": "code",
        "colab": {
          "autoexec": {
            "startup": false,
            "wait_interval": 0
          },
          "base_uri": "https://localhost:8080/",
          "height": 375
        },
        "outputId": "0cdbb9ef-eeb1-4fa9-ac67-3efcb4e25603",
        "executionInfo": {
          "status": "ok",
          "timestamp": 1528046439587,
          "user_tz": 420,
          "elapsed": 11710,
          "user": {
            "displayName": "Zimei Yang",
            "photoUrl": "https://lh3.googleusercontent.com/a/default-user=s128",
            "userId": "103997432320800495390"
          }
        }
      },
      "cell_type": "code",
      "source": [
        "# When 𝛾 = 0.2\n",
        "z_values = []\n",
        "for q in range(simu):\n",
        "    y = np.zeros((T+1,m))\n",
        "    y[0]=[allocation2.x.item(0), allocation2.x.item(1), allocation2.x.item(2), \n",
        "          allocation2.x.item(3), allocation2.x.item(4), allocation2.x.item(5)]\n",
        "    for i in range(T):\n",
        "        rr=np.random.multivariate_normal(mu1,Cov)\n",
        "        y[i+1]=y[i]*(1+rr)\n",
        "    z_values.append(sum(y[T])*B)\n",
        "\n",
        "mean2 = np.mean(z_values)\n",
        "var2 = np.var(z_values)\n",
        "\n",
        "plt.hist(z_values, density=True )\n",
        "plt.xlabel('Portfolio')\n",
        "plt.ylabel('Probability')\n",
        "plt.title('Histogram of Returns When gamma = 0.2 ')\n",
        "plt.show()"
      ],
      "execution_count": 102,
      "outputs": [
        {
          "output_type": "display_data",
          "data": {
            "image/png": "[encoded data removed]",
            "text/plain": [
              "<matplotlib.figure.Figure at 0x7f794102a748>"
            ]
          },
          "metadata": {
            "tags": []
          }
        }
      ]
    },
    {
      "metadata": {
        "id": "iDvcRRkW4W7b",
        "colab_type": "code",
        "colab": {
          "autoexec": {
            "startup": false,
            "wait_interval": 0
          },
          "base_uri": "https://localhost:8080/",
          "height": 140
        },
        "outputId": "49e98da2-318e-4151-e336-b1af66399043",
        "executionInfo": {
          "status": "ok",
          "timestamp": 1528046622885,
          "user_tz": 420,
          "elapsed": 385,
          "user": {
            "displayName": "Zimei Yang",
            "photoUrl": "https://lh3.googleusercontent.com/a/default-user=s128",
            "userId": "103997432320800495390"
          }
        }
      },
      "cell_type": "code",
      "source": [
        "col = {'Level of Risk Aversion':['gamma=0.1','gamma=0.15','gamma=0.2'],\n",
        "     'Mean of Portfolio':[mean1, mean15, mean2],\n",
        "     'Variance of Portfolio':[var1, var15, var2]}\n",
        "\n",
        "table = pd.DataFrame(col, columns=['Level of Risk Aversion','Mean of Portfolio','Variance of Portfolio'])\n",
        "table"
      ],
      "execution_count": 103,
      "outputs": [
        {
          "output_type": "execute_result",
          "data": {
            "text/html": [
              "<div>\n",
              "<style scoped>\n",
              "    .dataframe tbody tr th:only-of-type {\n",
              "        vertical-align: middle;\n",
              "    }\n",
              "\n",
              "    .dataframe tbody tr th {\n",
              "        vertical-align: top;\n",
              "    }\n",
              "\n",
              "    .dataframe thead th {\n",
              "        text-align: right;\n",
              "    }\n",
              "</style>\n",
              "<table border=\"1\" class=\"dataframe\">\n",
              "  <thead>\n",
              "    <tr style=\"text-align: right;\">\n",
              "      <th></th>\n",
              "      <th>Level of Risk Aversion</th>\n",
              "      <th>Mean of Portfolio</th>\n",
              "      <th>Variance of Portfolio</th>\n",
              "    </tr>\n",
              "  </thead>\n",
              "  <tbody>\n",
              "    <tr>\n",
              "      <th>0</th>\n",
              "      <td>gamma=0.1</td>\n",
              "      <td>145704.241382</td>\n",
              "      <td>6.285100e+08</td>\n",
              "    </tr>\n",
              "    <tr>\n",
              "      <th>1</th>\n",
              "      <td>gamma=0.15</td>\n",
              "      <td>145231.202361</td>\n",
              "      <td>6.248604e+08</td>\n",
              "    </tr>\n",
              "    <tr>\n",
              "      <th>2</th>\n",
              "      <td>gamma=0.2</td>\n",
              "      <td>140916.485884</td>\n",
              "      <td>5.514608e+08</td>\n",
              "    </tr>\n",
              "  </tbody>\n",
              "</table>\n",
              "</div>"
            ],
            "text/plain": [
              "  Level of Risk Aversion  Mean of Portfolio  Variance of Portfolio\n",
              "0              gamma=0.1      145704.241382           6.285100e+08\n",
              "1             gamma=0.15      145231.202361           6.248604e+08\n",
              "2              gamma=0.2      140916.485884           5.514608e+08"
            ]
          },
          "metadata": {
            "tags": []
          },
          "execution_count": 103
        }
      ]
    },
    {
      "metadata": {
        "id": "hdhq4KjP3UG6",
        "colab_type": "text"
      },
      "cell_type": "markdown",
      "source": [
        "We can see in the simulation result, in general, the more risky allocation strategy brings higher returns while having a higher variance; the less risky allocation strategy brings lower returns while having a lower variance.\n",
        "\n"
      ]
    },
    {
      "metadata": {
        "id": "kIsepRUB4J3A",
        "colab_type": "text"
      },
      "cell_type": "markdown",
      "source": [
        "-------------"
      ]
    },
    {
      "metadata": {
        "id": "4jdBYS6U5-RX",
        "colab_type": "text"
      },
      "cell_type": "markdown",
      "source": [
        "## PART B -  Portfolio Optimization based on the last 400 trading days.\n",
        "Redo Part A taking into account the last 400 trading days only."
      ]
    },
    {
      "metadata": {
        "id": "xTpzQu14BAaG",
        "colab_type": "text"
      },
      "cell_type": "markdown",
      "source": [
        "## 1. Preparing the Data"
      ]
    },
    {
      "metadata": {
        "id": "jhtGU-lm6Ijx",
        "colab_type": "code",
        "colab": {
          "autoexec": {
            "startup": false,
            "wait_interval": 0
          },
          "base_uri": "https://localhost:8080/",
          "height": 201
        },
        "outputId": "ec22bb72-aa38-4934-aebe-ec3e692f507a",
        "executionInfo": {
          "status": "ok",
          "timestamp": 1528046836420,
          "user_tz": 420,
          "elapsed": 429,
          "user": {
            "displayName": "Zimei Yang",
            "photoUrl": "https://lh3.googleusercontent.com/a/default-user=s128",
            "userId": "103997432320800495390"
          }
        }
      },
      "cell_type": "code",
      "source": [
        "# select the last 400 trading days\n",
        "df = df[-400:]\n",
        "df.head() "
      ],
      "execution_count": 104,
      "outputs": [
        {
          "output_type": "execute_result",
          "data": {
            "text/html": [
              "<div>\n",
              "<style scoped>\n",
              "    .dataframe tbody tr th:only-of-type {\n",
              "        vertical-align: middle;\n",
              "    }\n",
              "\n",
              "    .dataframe tbody tr th {\n",
              "        vertical-align: top;\n",
              "    }\n",
              "\n",
              "    .dataframe thead th {\n",
              "        text-align: right;\n",
              "    }\n",
              "</style>\n",
              "<table border=\"1\" class=\"dataframe\">\n",
              "  <thead>\n",
              "    <tr style=\"text-align: right;\">\n",
              "      <th></th>\n",
              "      <th>Amazon</th>\n",
              "      <th>Apple</th>\n",
              "      <th>Ebay</th>\n",
              "      <th>Facebook</th>\n",
              "      <th>Google</th>\n",
              "      <th>Twitter</th>\n",
              "    </tr>\n",
              "  </thead>\n",
              "  <tbody>\n",
              "    <tr>\n",
              "      <th>399</th>\n",
              "      <td>687.181</td>\n",
              "      <td>105.870003</td>\n",
              "      <td>31.059999</td>\n",
              "      <td>124.360001</td>\n",
              "      <td>797.250000</td>\n",
              "      <td>19.540001</td>\n",
              "    </tr>\n",
              "    <tr>\n",
              "      <th>400</th>\n",
              "      <td>676.851</td>\n",
              "      <td>107.480003</td>\n",
              "      <td>31.389999</td>\n",
              "      <td>125.150002</td>\n",
              "      <td>806.929993</td>\n",
              "      <td>20.860001</td>\n",
              "    </tr>\n",
              "    <tr>\n",
              "      <th>401</th>\n",
              "      <td>674.919</td>\n",
              "      <td>108.370003</td>\n",
              "      <td>31.150000</td>\n",
              "      <td>125.260002</td>\n",
              "      <td>805.229980</td>\n",
              "      <td>20.400000</td>\n",
              "    </tr>\n",
              "    <tr>\n",
              "      <th>402</th>\n",
              "      <td>685.267</td>\n",
              "      <td>108.809998</td>\n",
              "      <td>31.110001</td>\n",
              "      <td>125.059998</td>\n",
              "      <td>807.479980</td>\n",
              "      <td>20.170000</td>\n",
              "    </tr>\n",
              "    <tr>\n",
              "      <th>403</th>\n",
              "      <td>691.066</td>\n",
              "      <td>108.000000</td>\n",
              "      <td>31.120001</td>\n",
              "      <td>124.879997</td>\n",
              "      <td>808.489990</td>\n",
              "      <td>19.000000</td>\n",
              "    </tr>\n",
              "  </tbody>\n",
              "</table>\n",
              "</div>"
            ],
            "text/plain": [
              "      Amazon       Apple       Ebay    Facebook      Google    Twitter\n",
              "399  687.181  105.870003  31.059999  124.360001  797.250000  19.540001\n",
              "400  676.851  107.480003  31.389999  125.150002  806.929993  20.860001\n",
              "401  674.919  108.370003  31.150000  125.260002  805.229980  20.400000\n",
              "402  685.267  108.809998  31.110001  125.059998  807.479980  20.170000\n",
              "403  691.066  108.000000  31.120001  124.879997  808.489990  19.000000"
            ]
          },
          "metadata": {
            "tags": []
          },
          "execution_count": 104
        }
      ]
    },
    {
      "metadata": {
        "id": "DUGQ2OA-_V5K",
        "colab_type": "code",
        "colab": {
          "autoexec": {
            "startup": false,
            "wait_interval": 0
          },
          "base_uri": "https://localhost:8080/",
          "height": 34
        },
        "outputId": "efad1446-d4fa-46c4-cce5-0012fc3fe1e4",
        "executionInfo": {
          "status": "ok",
          "timestamp": 1528035651859,
          "user_tz": 420,
          "elapsed": 450,
          "user": {
            "displayName": "Zimei Yang",
            "photoUrl": "https://lh3.googleusercontent.com/a/default-user=s128",
            "userId": "103997432320800495390"
          }
        }
      },
      "cell_type": "code",
      "source": [
        "df.shape"
      ],
      "execution_count": 30,
      "outputs": [
        {
          "output_type": "execute_result",
          "data": {
            "text/plain": [
              "(400, 6)"
            ]
          },
          "metadata": {
            "tags": []
          },
          "execution_count": 30
        }
      ]
    },
    {
      "metadata": {
        "id": "PEu134LcBGKN",
        "colab_type": "text"
      },
      "cell_type": "markdown",
      "source": [
        "### E. Compute the rate of returns for each stock"
      ]
    },
    {
      "metadata": {
        "id": "HbWCj_e9BHEw",
        "colab_type": "code",
        "colab": {
          "autoexec": {
            "startup": false,
            "wait_interval": 0
          },
          "base_uri": "https://localhost:8080/",
          "height": 201
        },
        "outputId": "3c265fe6-dcaa-4585-e5f7-6167e23affd3",
        "executionInfo": {
          "status": "ok",
          "timestamp": 1528046858837,
          "user_tz": 420,
          "elapsed": 2931,
          "user": {
            "displayName": "Zimei Yang",
            "photoUrl": "https://lh3.googleusercontent.com/a/default-user=s128",
            "userId": "103997432320800495390"
          }
        }
      },
      "cell_type": "code",
      "source": [
        "df_returns = pd.DataFrame(index=range(len(df)-1), columns=[[\"Amazon\",\"Apple\", \"EBay\",\"Facebook\",\"Google\",\"Twitter\"]], dtype=float)\n",
        "\n",
        "for i in range(6):\n",
        "    for t in range(len(df)-1):\n",
        "        df_returns.iloc[t][i] = (df.iloc[t+1][i]-df.iloc[t][i])/df.iloc[t][i]\n",
        "        \n",
        "df_returns.head()"
      ],
      "execution_count": 106,
      "outputs": [
        {
          "output_type": "execute_result",
          "data": {
            "text/html": [
              "<div>\n",
              "<style scoped>\n",
              "    .dataframe tbody tr th:only-of-type {\n",
              "        vertical-align: middle;\n",
              "    }\n",
              "\n",
              "    .dataframe tbody tr th {\n",
              "        vertical-align: top;\n",
              "    }\n",
              "\n",
              "    .dataframe thead tr th {\n",
              "        text-align: left;\n",
              "    }\n",
              "</style>\n",
              "<table border=\"1\" class=\"dataframe\">\n",
              "  <thead>\n",
              "    <tr>\n",
              "      <th></th>\n",
              "      <th>Amazon</th>\n",
              "      <th>Apple</th>\n",
              "      <th>EBay</th>\n",
              "      <th>Facebook</th>\n",
              "      <th>Google</th>\n",
              "      <th>Twitter</th>\n",
              "    </tr>\n",
              "  </thead>\n",
              "  <tbody>\n",
              "    <tr>\n",
              "      <th>0</th>\n",
              "      <td>-0.015032</td>\n",
              "      <td>0.015207</td>\n",
              "      <td>0.010625</td>\n",
              "      <td>0.006353</td>\n",
              "      <td>0.012142</td>\n",
              "      <td>0.067554</td>\n",
              "    </tr>\n",
              "    <tr>\n",
              "      <th>1</th>\n",
              "      <td>-0.002854</td>\n",
              "      <td>0.008281</td>\n",
              "      <td>-0.007646</td>\n",
              "      <td>0.000879</td>\n",
              "      <td>-0.002107</td>\n",
              "      <td>-0.022052</td>\n",
              "    </tr>\n",
              "    <tr>\n",
              "      <th>2</th>\n",
              "      <td>0.015332</td>\n",
              "      <td>0.004060</td>\n",
              "      <td>-0.001284</td>\n",
              "      <td>-0.001597</td>\n",
              "      <td>0.002794</td>\n",
              "      <td>-0.011274</td>\n",
              "    </tr>\n",
              "    <tr>\n",
              "      <th>3</th>\n",
              "      <td>0.008462</td>\n",
              "      <td>-0.007444</td>\n",
              "      <td>0.000321</td>\n",
              "      <td>-0.001439</td>\n",
              "      <td>0.001251</td>\n",
              "      <td>-0.058007</td>\n",
              "    </tr>\n",
              "    <tr>\n",
              "      <th>4</th>\n",
              "      <td>-0.000682</td>\n",
              "      <td>-0.000648</td>\n",
              "      <td>0.002571</td>\n",
              "      <td>0.000160</td>\n",
              "      <td>-0.000359</td>\n",
              "      <td>-0.001053</td>\n",
              "    </tr>\n",
              "  </tbody>\n",
              "</table>\n",
              "</div>"
            ],
            "text/plain": [
              "     Amazon     Apple      EBay  Facebook    Google   Twitter\n",
              "0 -0.015032  0.015207  0.010625  0.006353  0.012142  0.067554\n",
              "1 -0.002854  0.008281 -0.007646  0.000879 -0.002107 -0.022052\n",
              "2  0.015332  0.004060 -0.001284 -0.001597  0.002794 -0.011274\n",
              "3  0.008462 -0.007444  0.000321 -0.001439  0.001251 -0.058007\n",
              "4 -0.000682 -0.000648  0.002571  0.000160 -0.000359 -0.001053"
            ]
          },
          "metadata": {
            "tags": []
          },
          "execution_count": 106
        }
      ]
    },
    {
      "metadata": {
        "id": "22jKH0iGBg4-",
        "colab_type": "text"
      },
      "cell_type": "markdown",
      "source": [
        "### F. Compute the average return that will use in the optimization"
      ]
    },
    {
      "metadata": {
        "id": "ij6FRyXMBigr",
        "colab_type": "code",
        "colab": {
          "autoexec": {
            "startup": false,
            "wait_interval": 0
          },
          "base_uri": "https://localhost:8080/",
          "height": 50
        },
        "outputId": "565b8158-1263-41df-a3aa-2118f52c6588",
        "executionInfo": {
          "status": "ok",
          "timestamp": 1528046861565,
          "user_tz": 420,
          "elapsed": 786,
          "user": {
            "displayName": "Zimei Yang",
            "photoUrl": "https://lh3.googleusercontent.com/a/default-user=s128",
            "userId": "103997432320800495390"
          }
        }
      },
      "cell_type": "code",
      "source": [
        "returns = df_returns + 1 \n",
        "geometric_mean = stats.gmean(returns.iloc[:, 0:6], axis = 0)\n",
        "mu = geometric_mean-1  \n",
        "mu"
      ],
      "execution_count": 107,
      "outputs": [
        {
          "output_type": "execute_result",
          "data": {
            "text/plain": [
              "array([0.0014643 , 0.00126081, 0.00080563, 0.00098042, 0.0008732 ,\n",
              "       0.00150318])"
            ]
          },
          "metadata": {
            "tags": []
          },
          "execution_count": 107
        }
      ]
    },
    {
      "metadata": {
        "id": "arAEE3toBqeW",
        "colab_type": "text"
      },
      "cell_type": "markdown",
      "source": [
        "### G. Compute the variance-covariance matrix of the stock returns"
      ]
    },
    {
      "metadata": {
        "id": "sdAd_tpYBtnm",
        "colab_type": "code",
        "colab": {
          "autoexec": {
            "startup": false,
            "wait_interval": 0
          }
        }
      },
      "cell_type": "code",
      "source": [
        "covariance = []\n",
        "\n",
        "for i in range(6):\n",
        "    for j in range(6):\n",
        "        covariance.append(  sum(  (df_returns.iloc[:,i]- mu[i]) * (df_returns.iloc[:,j] - mu[j])  )/  len(df_returns)  )\n",
        "        \n",
        "Cov = np.asarray(covariance).reshape((6,6))"
      ],
      "execution_count": 0,
      "outputs": []
    },
    {
      "metadata": {
        "id": "airLPV_EB1gl",
        "colab_type": "text"
      },
      "cell_type": "markdown",
      "source": [
        "### H. Provide the vector 𝜇 and the variance-covariance matrix 𝛴 for the 6 assets considered."
      ]
    },
    {
      "metadata": {
        "id": "BO5df9BPB4MV",
        "colab_type": "code",
        "colab": {
          "autoexec": {
            "startup": false,
            "wait_interval": 0
          },
          "base_uri": "https://localhost:8080/",
          "height": 236
        },
        "outputId": "2bb72a59-d98d-4467-f179-f6a0faba2135",
        "executionInfo": {
          "status": "ok",
          "timestamp": 1528035783332,
          "user_tz": 420,
          "elapsed": 420,
          "user": {
            "displayName": "Zimei Yang",
            "photoUrl": "https://lh3.googleusercontent.com/a/default-user=s128",
            "userId": "103997432320800495390"
          }
        }
      },
      "cell_type": "code",
      "source": [
        "print(\"vector 𝜇 :\", mu)\n",
        "print(\"variance-covariance matrix 𝛴 :\", Cov)"
      ],
      "execution_count": 34,
      "outputs": [
        {
          "output_type": "stream",
          "text": [
            "vector 𝜇 : [0.0014643  0.00126081 0.00080563 0.00098042 0.0008732  0.00150318]\n",
            "variance-covariance matrix 𝛴 : [[ 2.29524929e-04 -9.77415294e-06 -3.52960739e-07 -2.01685925e-06\n",
            "  -9.22407496e-07 -3.35916745e-05]\n",
            " [-9.77415294e-06  1.39371816e-04  6.59006383e-06  2.84220301e-06\n",
            "   6.90084758e-06 -1.06158004e-05]\n",
            " [-3.52960739e-07  6.59006383e-06  2.36168390e-04 -1.31685688e-05\n",
            "   1.88205114e-06 -2.60729041e-05]\n",
            " [-2.01685925e-06  2.84220301e-06 -1.31685688e-05  1.58173966e-04\n",
            "   2.13322826e-05 -2.29087650e-06]\n",
            " [-9.22407496e-07  6.90084758e-06  1.88205114e-06  2.13322826e-05\n",
            "   1.22191244e-04 -5.27912404e-06]\n",
            " [-3.35916745e-05 -1.06158004e-05 -2.60729041e-05 -2.29087650e-06\n",
            "  -5.27912404e-06  1.00165427e-03]]\n"
          ],
          "name": "stdout"
        }
      ]
    },
    {
      "metadata": {
        "id": "7WcShyLwCAKM",
        "colab_type": "text"
      },
      "cell_type": "markdown",
      "source": [
        "## 2. Minimizing Risk"
      ]
    },
    {
      "metadata": {
        "id": "RTiVJT2tB7Bv",
        "colab_type": "code",
        "colab": {
          "autoexec": {
            "startup": false,
            "wait_interval": 0
          }
        }
      },
      "cell_type": "code",
      "source": [
        "# R is the annual return that the investor wants to achieve, with 𝑅 = 0.07\n",
        "# stock market operates 250 days a year\n",
        "R=0.07/250\n",
        "\n",
        "# 6 stocks  \n",
        "x=cvx.Variable(6)"
      ],
      "execution_count": 0,
      "outputs": []
    },
    {
      "metadata": {
        "id": "PHgg_DIPCE1P",
        "colab_type": "code",
        "colab": {
          "autoexec": {
            "startup": false,
            "wait_interval": 0
          }
        }
      },
      "cell_type": "code",
      "source": [
        "risk=quad_form(x, Cov)\n",
        "rr=sum_entries(mu*x)"
      ],
      "execution_count": 0,
      "outputs": []
    },
    {
      "metadata": {
        "id": "b6JVL_rmCHfs",
        "colab_type": "code",
        "colab": {
          "autoexec": {
            "startup": false,
            "wait_interval": 0
          },
          "base_uri": "https://localhost:8080/",
          "height": 118
        },
        "outputId": "900d1cc5-090b-4fb6-9fe1-e0a2bc448137",
        "executionInfo": {
          "status": "ok",
          "timestamp": 1528046883176,
          "user_tz": 420,
          "elapsed": 731,
          "user": {
            "displayName": "Zimei Yang",
            "photoUrl": "https://lh3.googleusercontent.com/a/default-user=s128",
            "userId": "103997432320800495390"
          }
        }
      },
      "cell_type": "code",
      "source": [
        "prob1 = Problem(Minimize(risk), \n",
        "               [rr>=R,\n",
        "                sum_entries(x) == 1, \n",
        "                x >= 0])\n",
        "prob1.solve()\n",
        "print(x.value)"
      ],
      "execution_count": 111,
      "outputs": [
        {
          "output_type": "stream",
          "text": [
            "[[0.16298367]\n",
            " [0.22957664]\n",
            " [0.14731106]\n",
            " [0.18900859]\n",
            " [0.22482549]\n",
            " [0.04629455]]\n"
          ],
          "name": "stdout"
        }
      ]
    },
    {
      "metadata": {
        "id": "rB16d4PqCicR",
        "colab_type": "text"
      },
      "cell_type": "markdown",
      "source": [
        "## 3. Maximizing Returns (Utility)"
      ]
    },
    {
      "metadata": {
        "id": "9V3vQNlAB0zn",
        "colab_type": "code",
        "colab": {
          "autoexec": {
            "startup": false,
            "wait_interval": 0
          }
        }
      },
      "cell_type": "code",
      "source": [
        "# turn vector 𝜇 into matrix\n",
        "mu = np.asmatrix(mu)\n",
        "\n",
        "# define variable matrix\n",
        "x_mat = matrix([0,0,0,0,0,0])\n",
        "\n",
        "#define bounds\n",
        "bounds = ((0,None),(0,None),(0,None),(0,None),(0,None),(0,None))"
      ],
      "execution_count": 0,
      "outputs": []
    },
    {
      "metadata": {
        "id": "ZUIqCMJiCmbl",
        "colab_type": "code",
        "colab": {
          "autoexec": {
            "startup": false,
            "wait_interval": 0
          }
        }
      },
      "cell_type": "code",
      "source": [
        "# define objective functions ---- returns with 𝛾 = 0.1, 𝛾 = 0.15 and 𝛾 = 0.2\n",
        "# 𝛾 = 0.1\n",
        "def return1(x):\n",
        "    return -(x.T * mu.T-0.1*np.sqrt(np.dot(np.dot(x.T,Cov),x)))\n",
        "  \n",
        "# 𝛾 = 0.15\n",
        "def return15(x):\n",
        "    return -(x.T * mu.T-0.15*np.sqrt(np.dot(np.dot(x.T,Cov),x)))\n",
        "  \n",
        "# 𝛾 = 0.2\n",
        "def return2(x):\n",
        "    return -(x.T * mu.T-0.2*np.sqrt(np.dot(np.dot(x.T,Cov),x)))"
      ],
      "execution_count": 0,
      "outputs": []
    },
    {
      "metadata": {
        "id": "1HzhlhleCo73",
        "colab_type": "code",
        "colab": {
          "autoexec": {
            "startup": false,
            "wait_interval": 0
          }
        }
      },
      "cell_type": "code",
      "source": [
        "# solve the optimization problem using scipy.optimize.minimize \n",
        "\n",
        "allocation1 = minimize(return1, \n",
        "                       x_mat, \n",
        "                       constraints = ({'type':'eq','fun':lambda x: x[0]+x[1]+x[2]+x[3]+x[4]+x[5]-1}),\n",
        "                       bounds = bounds,)\n",
        "\n",
        "allocation15 = minimize(return15, \n",
        "                       x_mat, \n",
        "                       constraints = ({'type':'eq','fun':lambda x: x[0]+x[1]+x[2]+x[3]+x[4]+x[5]-1}),\n",
        "                       bounds = bounds,)\n",
        "\n",
        "allocation2 = minimize(return2, \n",
        "                       x_mat, \n",
        "                       constraints = ({'type':'eq','fun':lambda x: x[0]+x[1]+x[2]+x[3]+x[4]+x[5]-1}),\n",
        "                       bounds = bounds,)"
      ],
      "execution_count": 0,
      "outputs": []
    },
    {
      "metadata": {
        "id": "p4Xmww01Csbw",
        "colab_type": "code",
        "colab": {
          "autoexec": {
            "startup": false,
            "wait_interval": 0
          },
          "base_uri": "https://localhost:8080/",
          "height": 67
        },
        "outputId": "f632acb0-046b-4807-a0a4-95d4865a998a",
        "executionInfo": {
          "status": "ok",
          "timestamp": 1528035999019,
          "user_tz": 420,
          "elapsed": 532,
          "user": {
            "displayName": "Zimei Yang",
            "photoUrl": "https://lh3.googleusercontent.com/a/default-user=s128",
            "userId": "103997432320800495390"
          }
        }
      },
      "cell_type": "code",
      "source": [
        "# see allocations\n",
        "print(\"When 𝛾 = 0.1 the optimal allocation is\", allocation1.x)\n",
        "print(\"When 𝛾 = 0.15 the optimal allocation is\", allocation15.x)\n",
        "print(\"When 𝛾 = 0.2 the optimal allocation is\", allocation2.x)"
      ],
      "execution_count": 41,
      "outputs": [
        {
          "output_type": "stream",
          "text": [
            "When 𝛾 = 0.1 the opoptimal allocation is [0.22004448 0.21236235 0.15318617 0.17907391 0.17331209 0.06202099]\n",
            "When 𝛾 = 0.15 the opoptimal allocation is [0.20720483 0.20632554 0.16343431 0.18306182 0.18089577 0.05907773]\n",
            "When 𝛾 = 0.2 the opoptimal allocation is [0.20169198 0.20415401 0.16789355 0.18510667 0.18463577 0.05651802]\n"
          ],
          "name": "stdout"
        }
      ]
    },
    {
      "metadata": {
        "id": "1j_u8IXhCvpZ",
        "colab_type": "code",
        "colab": {
          "autoexec": {
            "startup": false,
            "wait_interval": 0
          },
          "base_uri": "https://localhost:8080/",
          "height": 67
        },
        "outputId": "62127935-6904-4e27-da79-787252c3a5ef",
        "executionInfo": {
          "status": "ok",
          "timestamp": 1528049140291,
          "user_tz": 420,
          "elapsed": 556,
          "user": {
            "displayName": "Zimei Yang",
            "photoUrl": "https://lh3.googleusercontent.com/a/default-user=s128",
            "userId": "103997432320800495390"
          }
        }
      },
      "cell_type": "code",
      "source": [
        "# see value of the object function\n",
        "print(\"When 𝛾 = 0.1 the value of objective function is\", -allocation1.fun)\n",
        "print(\"When 𝛾 = 0.15 the value of objective function is\", -allocation15.fun)\n",
        "print(\"When 𝛾 = 0.2 the value of objective function is\", -allocation2.fun)"
      ],
      "execution_count": 124,
      "outputs": [
        {
          "output_type": "stream",
          "text": [
            "When 𝛾 = 0.1 the value of objective function is 0.0005472625519551518\n",
            "When 𝛾 = 0.15 the value of objective function is 0.00024716726859854625\n",
            "When 𝛾 = 0.2 the value of objective function is -4.742503465139181e-05\n"
          ],
          "name": "stdout"
        }
      ]
    },
    {
      "metadata": {
        "id": "irUlnk2b037v",
        "colab_type": "code",
        "colab": {
          "autoexec": {
            "startup": false,
            "wait_interval": 0
          },
          "base_uri": "https://localhost:8080/",
          "height": 140
        },
        "outputId": "7bf3fc06-6b76-4429-bc1d-0065dd47030d",
        "executionInfo": {
          "status": "ok",
          "timestamp": 1528049148587,
          "user_tz": 420,
          "elapsed": 2756,
          "user": {
            "displayName": "Zimei Yang",
            "photoUrl": "https://lh3.googleusercontent.com/a/default-user=s128",
            "userId": "103997432320800495390"
          }
        }
      },
      "cell_type": "code",
      "source": [
        "col = {'Risk Aversion':['gamma=0.1','gamma=0.15','gamma=0.2'],\n",
        "     'Amazon': [round(allocation1.x.item(0),4), round(allocation15.x.item(0),4), round(allocation2.x.item(0),4)],\n",
        "     'Apple': [ round(allocation1.x.item(1),4), round(allocation15.x.item(1),4), round(allocation2.x.item(1),4)],\n",
        "     'EBay': [round(allocation1.x.item(2),4), round(allocation15.x.item(2),4), round(allocation2.x.item(2),4)],\n",
        "     'Facebook': [round(allocation1.x.item(3),4), round(allocation15.x.item(3),4), round(allocation2.x.item(3),4)],\n",
        "     'Google': [round(allocation1.x.item(4),4), round(allocation15.x.item(4),4), round(allocation2.x.item(4),4)],\n",
        "     'Twitter': [round(allocation1.x.item(5),4), round(allocation15.x.item(5),4), round(allocation2.x.item(5),4)],\n",
        "     'Optimal Result': [round(-allocation1.fun,4), round(-allocation15.fun,4), round(-allocation2.fun,4)]}\n",
        "\n",
        "table = pd.DataFrame(col, columns=['Risk Aversion', 'Amazon', 'Apple', 'EBay', 'Facebook', 'Google', 'Twitter', 'Optimal Result'])\n",
        "table"
      ],
      "execution_count": 125,
      "outputs": [
        {
          "output_type": "execute_result",
          "data": {
            "text/html": [
              "<div>\n",
              "<style scoped>\n",
              "    .dataframe tbody tr th:only-of-type {\n",
              "        vertical-align: middle;\n",
              "    }\n",
              "\n",
              "    .dataframe tbody tr th {\n",
              "        vertical-align: top;\n",
              "    }\n",
              "\n",
              "    .dataframe thead th {\n",
              "        text-align: right;\n",
              "    }\n",
              "</style>\n",
              "<table border=\"1\" class=\"dataframe\">\n",
              "  <thead>\n",
              "    <tr style=\"text-align: right;\">\n",
              "      <th></th>\n",
              "      <th>Risk Aversion</th>\n",
              "      <th>Amazon</th>\n",
              "      <th>Apple</th>\n",
              "      <th>EBay</th>\n",
              "      <th>Facebook</th>\n",
              "      <th>Google</th>\n",
              "      <th>Twitter</th>\n",
              "      <th>Optimal Result</th>\n",
              "    </tr>\n",
              "  </thead>\n",
              "  <tbody>\n",
              "    <tr>\n",
              "      <th>0</th>\n",
              "      <td>gamma=0.1</td>\n",
              "      <td>0.2200</td>\n",
              "      <td>0.2124</td>\n",
              "      <td>0.1532</td>\n",
              "      <td>0.1791</td>\n",
              "      <td>0.1733</td>\n",
              "      <td>0.0620</td>\n",
              "      <td>0.0005</td>\n",
              "    </tr>\n",
              "    <tr>\n",
              "      <th>1</th>\n",
              "      <td>gamma=0.15</td>\n",
              "      <td>0.2072</td>\n",
              "      <td>0.2063</td>\n",
              "      <td>0.1634</td>\n",
              "      <td>0.1831</td>\n",
              "      <td>0.1809</td>\n",
              "      <td>0.0591</td>\n",
              "      <td>0.0002</td>\n",
              "    </tr>\n",
              "    <tr>\n",
              "      <th>2</th>\n",
              "      <td>gamma=0.2</td>\n",
              "      <td>0.2017</td>\n",
              "      <td>0.2042</td>\n",
              "      <td>0.1679</td>\n",
              "      <td>0.1851</td>\n",
              "      <td>0.1846</td>\n",
              "      <td>0.0565</td>\n",
              "      <td>-0.0000</td>\n",
              "    </tr>\n",
              "  </tbody>\n",
              "</table>\n",
              "</div>"
            ],
            "text/plain": [
              "  Risk Aversion  Amazon   Apple    EBay  Facebook  Google  Twitter  \\\n",
              "0     gamma=0.1  0.2200  0.2124  0.1532    0.1791  0.1733   0.0620   \n",
              "1    gamma=0.15  0.2072  0.2063  0.1634    0.1831  0.1809   0.0591   \n",
              "2     gamma=0.2  0.2017  0.2042  0.1679    0.1851  0.1846   0.0565   \n",
              "\n",
              "   Optimal Result  \n",
              "0          0.0005  \n",
              "1          0.0002  \n",
              "2         -0.0000  "
            ]
          },
          "metadata": {
            "tags": []
          },
          "execution_count": 125
        }
      ]
    },
    {
      "metadata": {
        "id": "VAZKKLc52DhC",
        "colab_type": "text"
      },
      "cell_type": "markdown",
      "source": [
        " When the investing period is shortened to 400 days, there are more fluctuations in the market and returns are more unstable and thus lead to higher risk. Therefore, the optimal allocations change accordingly, lower investments in highly risky assets and increase investments in assrts with lower risks."
      ]
    },
    {
      "metadata": {
        "id": "av4kKw4qD8ng",
        "colab_type": "text"
      },
      "cell_type": "markdown",
      "source": [
        "## 4. Simulations"
      ]
    },
    {
      "metadata": {
        "id": "qcrLx2WcC45Q",
        "colab_type": "code",
        "colab": {
          "autoexec": {
            "startup": false,
            "wait_interval": 0
          }
        }
      },
      "cell_type": "code",
      "source": [
        "simu = 200  # we are doing 250 simulations\n",
        "T = 300  # 300 trading days\n",
        "m = 6  # we have # 6 assets\n",
        "B = 100000  # Budget is $100,000\n",
        "mu1 = mu.tolist()[0] # tranform the mu matrix to a vector"
      ],
      "execution_count": 0,
      "outputs": []
    },
    {
      "metadata": {
        "id": "tbhmoAUtBpen",
        "colab_type": "code",
        "colab": {
          "autoexec": {
            "startup": false,
            "wait_interval": 0
          },
          "base_uri": "https://localhost:8080/",
          "height": 375
        },
        "outputId": "1d93af0b-4a9f-418f-cde0-168b7118464f",
        "executionInfo": {
          "status": "ok",
          "timestamp": 1528046907321,
          "user_tz": 420,
          "elapsed": 10308,
          "user": {
            "displayName": "Zimei Yang",
            "photoUrl": "https://lh3.googleusercontent.com/a/default-user=s128",
            "userId": "103997432320800495390"
          }
        }
      },
      "cell_type": "code",
      "source": [
        "# When 𝛾 = 0.1\n",
        "z_values = []\n",
        "for q in range(simu):\n",
        "    y = np.zeros((T+1,m))\n",
        "    y[0]=[allocation1.x.item(0), allocation1.x.item(1), allocation1.x.item(2),\n",
        "          allocation1.x.item(3), allocation1.x.item(4), allocation1.x.item(5)]\n",
        "    for i in range(T):\n",
        "        rr=np.random.multivariate_normal(mu1,Cov)  \n",
        "        y[i+1]=y[i]*(1+rr)\n",
        "    z_values.append(sum(y[T])*B)\n",
        "        \n",
        "mean1 = np.mean(z_values)\n",
        "var1 = np.var(z_values)\n",
        "\n",
        "plt.hist(z_values, density=True )\n",
        "plt.xlabel('Portfolio')\n",
        "plt.ylabel('Probability')\n",
        "plt.title('Histogram of Returns When gamma = 0.1')\n",
        "plt.show()"
      ],
      "execution_count": 116,
      "outputs": [
        {
          "output_type": "display_data",
          "data": {
            "image/png": "[encoded data removed]",
            "text/plain": [
              "<matplotlib.figure.Figure at 0x7f7940f70a90>"
            ]
          },
          "metadata": {
            "tags": []
          }
        }
      ]
    },
    {
      "metadata": {
        "id": "FGMQ6nizBfuZ",
        "colab_type": "code",
        "colab": {
          "autoexec": {
            "startup": false,
            "wait_interval": 0
          },
          "base_uri": "https://localhost:8080/",
          "height": 375
        },
        "outputId": "473e4ae4-454d-4d7d-c84f-ad388d65d087",
        "executionInfo": {
          "status": "ok",
          "timestamp": 1528047000040,
          "user_tz": 420,
          "elapsed": 10679,
          "user": {
            "displayName": "Zimei Yang",
            "photoUrl": "https://lh3.googleusercontent.com/a/default-user=s128",
            "userId": "103997432320800495390"
          }
        }
      },
      "cell_type": "code",
      "source": [
        "# When 𝛾 = 0.15\n",
        "z_values = []\n",
        "for q in range(simu):\n",
        "    y = np.zeros((T+1,m))\n",
        "    y[0]=[allocation15.x.item(0), allocation15.x.item(1), allocation15.x.item(2),\n",
        "          allocation15.x.item(3), allocation15.x.item(4), allocation15.x.item(5)]\n",
        "    for i in range(T):\n",
        "        rr=np.random.multivariate_normal(mu1,Cov)\n",
        "        y[i+1]=y[i]*(1+rr)\n",
        "    z_values.append(sum(y[T])*B)\n",
        "\n",
        "mean15 = np.mean(z_values)\n",
        "var15 = np.var(z_values)\n",
        "\n",
        "plt.hist(z_values, density=True )\n",
        "plt.xlabel('Portfolio')\n",
        "plt.ylabel('Probability')\n",
        "plt.title('Histogram of Returns When gamma = 0.15 ')\n",
        "plt.show()"
      ],
      "execution_count": 122,
      "outputs": [
        {
          "output_type": "display_data",
          "data": {
            "image/png": "[encoded data removed]",
            "text/plain": [
              "<matplotlib.figure.Figure at 0x7f7941282940>"
            ]
          },
          "metadata": {
            "tags": []
          }
        }
      ]
    },
    {
      "metadata": {
        "id": "5OMHpn8TEOwc",
        "colab_type": "code",
        "colab": {
          "autoexec": {
            "startup": false,
            "wait_interval": 0
          },
          "base_uri": "https://localhost:8080/",
          "height": 375
        },
        "outputId": "7c735898-02b2-4e80-d721-a29820301da4",
        "executionInfo": {
          "status": "ok",
          "timestamp": 1528046935983,
          "user_tz": 420,
          "elapsed": 10058,
          "user": {
            "displayName": "Zimei Yang",
            "photoUrl": "https://lh3.googleusercontent.com/a/default-user=s128",
            "userId": "103997432320800495390"
          }
        }
      },
      "cell_type": "code",
      "source": [
        "# When 𝛾 = 0.2\n",
        "z_values = []\n",
        "for q in range(simu):\n",
        "    y = np.zeros((T+1,m))\n",
        "    y[0]=[allocation2.x.item(0), allocation2.x.item(1), allocation2.x.item(2), \n",
        "          allocation2.x.item(3), allocation2.x.item(4), allocation2.x.item(5)]\n",
        "    for i in range(T):\n",
        "        rr=np.random.multivariate_normal(mu1,Cov)\n",
        "        y[i+1]=y[i]*(1+rr)\n",
        "    z_values.append(sum(y[T])*B)\n",
        "\n",
        "mean2 = np.mean(z_values)\n",
        "var2 = np.var(z_values)\n",
        "\n",
        "plt.hist(z_values, density=True )\n",
        "plt.xlabel('Portfolio')\n",
        "plt.ylabel('Probability')\n",
        "plt.title('Histogram of Returns When gamma = 0.2 ')\n",
        "plt.show()"
      ],
      "execution_count": 118,
      "outputs": [
        {
          "output_type": "display_data",
          "data": {
            "image/png": "[encoded data removed]",
            "text/plain": [
              "<matplotlib.figure.Figure at 0x7f7941204438>"
            ]
          },
          "metadata": {
            "tags": []
          }
        }
      ]
    },
    {
      "metadata": {
        "id": "lxGMbGcjEQ8d",
        "colab_type": "code",
        "colab": {
          "autoexec": {
            "startup": false,
            "wait_interval": 0
          },
          "base_uri": "https://localhost:8080/",
          "height": 140
        },
        "outputId": "5f74e059-ef33-4dab-b266-cb6c1090b479",
        "executionInfo": {
          "status": "ok",
          "timestamp": 1528049352088,
          "user_tz": 420,
          "elapsed": 379,
          "user": {
            "displayName": "Zimei Yang",
            "photoUrl": "https://lh3.googleusercontent.com/a/default-user=s128",
            "userId": "103997432320800495390"
          }
        }
      },
      "cell_type": "code",
      "source": [
        "col = {'Level of Risk Aversion':['gamma=0.1','gamma=0.15','gamma=0.2'],\n",
        "     'Mean of Returns':[mean1, mean15, mean2],\n",
        "     'Variance of Portfolio (Risk)':[var1, var15, var2]}\n",
        "\n",
        "table = pd.DataFrame(col, columns=['Level of Risk Aversion','Mean of Returns','Variance of Portfolio (Risk)'])\n",
        "table"
      ],
      "execution_count": 127,
      "outputs": [
        {
          "output_type": "execute_result",
          "data": {
            "text/html": [
              "<div>\n",
              "<style scoped>\n",
              "    .dataframe tbody tr th:only-of-type {\n",
              "        vertical-align: middle;\n",
              "    }\n",
              "\n",
              "    .dataframe tbody tr th {\n",
              "        vertical-align: top;\n",
              "    }\n",
              "\n",
              "    .dataframe thead th {\n",
              "        text-align: right;\n",
              "    }\n",
              "</style>\n",
              "<table border=\"1\" class=\"dataframe\">\n",
              "  <thead>\n",
              "    <tr style=\"text-align: right;\">\n",
              "      <th></th>\n",
              "      <th>Level of Risk Aversion</th>\n",
              "      <th>Mean of Returns</th>\n",
              "      <th>Variance of Portfolio (Risk)</th>\n",
              "    </tr>\n",
              "  </thead>\n",
              "  <tbody>\n",
              "    <tr>\n",
              "      <th>0</th>\n",
              "      <td>gamma=0.1</td>\n",
              "      <td>140933.407301</td>\n",
              "      <td>2.372962e+08</td>\n",
              "    </tr>\n",
              "    <tr>\n",
              "      <th>1</th>\n",
              "      <td>gamma=0.15</td>\n",
              "      <td>140711.870999</td>\n",
              "      <td>2.045646e+08</td>\n",
              "    </tr>\n",
              "    <tr>\n",
              "      <th>2</th>\n",
              "      <td>gamma=0.2</td>\n",
              "      <td>140021.178881</td>\n",
              "      <td>2.369172e+08</td>\n",
              "    </tr>\n",
              "  </tbody>\n",
              "</table>\n",
              "</div>"
            ],
            "text/plain": [
              "  Level of Risk Aversion  Mean of Returns  Variance of Portfolio (Risk)\n",
              "0              gamma=0.1    140933.407301                  2.372962e+08\n",
              "1             gamma=0.15    140711.870999                  2.045646e+08\n",
              "2              gamma=0.2    140021.178881                  2.369172e+08"
            ]
          },
          "metadata": {
            "tags": []
          },
          "execution_count": 127
        }
      ]
    },
    {
      "metadata": {
        "id": "iy3pC4lZ0_al",
        "colab_type": "text"
      },
      "cell_type": "markdown",
      "source": [
        "We can see in the simulation result, in general,  the more risky allocation strategy brings higher returns while having a higher variance; the less risky allocation strategy brings lower returns while having a lower variance."
      ]
    }
  ]
}